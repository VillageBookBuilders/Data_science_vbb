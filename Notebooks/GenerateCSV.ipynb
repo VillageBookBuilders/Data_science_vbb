{
 "cells": [
  {
   "cell_type": "markdown",
   "metadata": {
    "id": "8CFyhzHxrvug"
   },
   "source": [
    "# Meeting Log Summary\n",
    "\n",
    "The aim of this notebook is to generate three CSV files that will be used to display the Dashboard on Google Data Studio:\n",
    "- meeting_group_march_sept.csv (Meetings duration)\n",
    "- group_by_meetingCode.csv (Participants punctuality)\n",
    "- mentors.csv (Mentors geolocation) <br>\n",
    "\n",
    "Link to the Dashboard : https://datastudio.google.com/reporting/1df8411a-0c41-41ca-986b-0ba98b119932/page/p_bw2m1tmnpc\n",
    " "
   ]
  },
  {
   "cell_type": "markdown",
   "metadata": {
    "id": "KXoBkejvsfA_"
   },
   "source": [
    "## Data Input\n",
    "\n",
    "Two files are needed for the creation of the Dashboard:\n",
    "- calendar.csv (Run code below which need credentials file *service-acc.json*)\n",
    "- meetlogs.csv (Already provided)\n",
    "\n",
    "NB: Make sure the files (notebook + files) are located in the same folder."
   ]
  },
  {
   "cell_type": "code",
   "execution_count": 1,
   "metadata": {
    "executionInfo": {
     "elapsed": 160,
     "status": "ok",
     "timestamp": 1642638050199,
     "user": {
      "displayName": "Christophe SUN",
      "photoUrl": "https://lh3.googleusercontent.com/a/default-user=s64",
      "userId": "17263732313968826162"
     },
     "user_tz": -60
    },
    "id": "EvVtldPCrGZM"
   },
   "outputs": [],
   "source": [
    "from google.oauth2 import service_account\n",
    "from googleapiclient.discovery import build\n",
    "import pandas as pd\n",
    "import os\n",
    "from datetime import timedelta"
   ]
  },
  {
   "cell_type": "code",
   "execution_count": 3,
   "metadata": {
    "colab": {
     "base_uri": "https://localhost:8080/"
    },
    "executionInfo": {
     "elapsed": 5489,
     "status": "ok",
     "timestamp": 1642638056457,
     "user": {
      "displayName": "Christophe SUN",
      "photoUrl": "https://lh3.googleusercontent.com/a/default-user=s64",
      "userId": "17263732313968826162"
     },
     "user_tz": -60
    },
    "id": "gKTR1D9dtDJy",
    "outputId": "152daac9-54e1-47c0-b676-a22e04cb2cb6"
   },
   "outputs": [
    {
     "name": "stdout",
     "output_type": "stream",
     "text": [
      "File calendar.csv created !\n"
     ]
    }
   ],
   "source": [
    "class google_apis:\n",
    "    __webdev_cred = ''\n",
    "    __mentor_cred = ''\n",
    "\n",
    "    def __init__(self):\n",
    "        scopes = [\n",
    "            'https://www.googleapis.com/auth/calendar',\n",
    "            'https://www.googleapis.com/auth/gmail.compose',\n",
    "            'https://www.googleapis.com/auth/admin.directory.user',\n",
    "            'https://www.googleapis.com/auth/admin.directory.group',\n",
    "        ]\n",
    "        SERVICE_ACCOUNT_FILE = os.path.join(\"\", \"service-acc.json\")\n",
    "        credentials = service_account.Credentials.from_service_account_file(\n",
    "            'service-acc.json', scopes=scopes)\n",
    "        self.__webdev_cred = credentials.with_subject(\n",
    "            'webdevelopment@villagebookbuilders.org')\n",
    "        self.__mentor_cred = credentials.with_subject(\n",
    "            'mentor@villagebookbuilders.org')\n",
    "\n",
    "    def calendar_data_arr(self):\n",
    "        data_arr = [['Associated Calendar', 'Meet Link', 'Participants', 'Start Time', 'End Time', 'ID']]\n",
    "        calendar_service = build('calendar', 'v3', credentials=self.__mentor_cred)\n",
    "        ids = calendar_service.calendarList().list().execute()\n",
    "        for calendar_list_entry in ids['items']:\n",
    "            list = calendar_service.events().list(calendarId=calendar_list_entry['id']).execute()\n",
    "            flag = True\n",
    "            for event in list['items']:\n",
    "                if 'hangoutLink' in event and 'attendees' in event:\n",
    "                    data_arr.append([calendar_list_entry['summary'],\n",
    "                                    event['hangoutLink'], event['attendees'], event['start'], event['end'], event['id']])\n",
    "        df = pd.DataFrame(data_arr)\n",
    "        df.to_csv('calendar.csv')\n",
    "\n",
    "api_obj = google_apis()\n",
    "api_obj.calendar_data_arr()\n",
    "print('File calendar.csv created !')"
   ]
  },
  {
   "cell_type": "code",
   "execution_count": 2,
   "metadata": {
    "executionInfo": {
     "elapsed": 202,
     "status": "ok",
     "timestamp": 1642640550929,
     "user": {
      "displayName": "Christophe SUN",
      "photoUrl": "https://lh3.googleusercontent.com/a/default-user=s64",
      "userId": "17263732313968826162"
     },
     "user_tz": -60
    },
    "id": "e_97nfWuuY6b"
   },
   "outputs": [],
   "source": [
    "# Read the two CSV files\n",
    "data_meetlogs = pd.read_excel('meetlogs.xlsx')\n",
    "data_calendar = pd.read_csv('calendar.csv', header=1)"
   ]
  },
  {
   "cell_type": "markdown",
   "metadata": {
    "id": "K3N9ygQDvMZ8"
   },
   "source": [
    "## First Page : Time spent in meetings"
   ]
  },
  {
   "cell_type": "code",
   "execution_count": 19,
   "metadata": {
    "colab": {
     "base_uri": "https://localhost:8080/"
    },
    "executionInfo": {
     "elapsed": 3915,
     "status": "ok",
     "timestamp": 1642638571192,
     "user": {
      "displayName": "Christophe SUN",
      "photoUrl": "https://lh3.googleusercontent.com/a/default-user=s64",
      "userId": "17263732313968826162"
     },
     "user_tz": -60
    },
    "id": "_kVF5FK6vSOR",
    "outputId": "f68e4a93-bbcd-44cd-ce5c-add8af57fc55"
   },
   "outputs": [
    {
     "name": "stdout",
     "output_type": "stream",
     "text": [
      "File meeting_group_march_sept.csv created !\n"
     ]
    }
   ],
   "source": [
    "# # Select the columns of interest \n",
    "data = data_meetlogs[['Date', 'Meeting Code', 'Participant Identifier', 'Duration', 'Participant Name']].copy()\n",
    "\n",
    "# Modify the Date column format\n",
    "data['Date'] = pd.to_datetime(data['Date']).dt.strftime('%m/%d/%Y')\n",
    "\n",
    "#Sum durations to even time\n",
    "data = data.groupby(['Date', 'Meeting Code', 'Participant Identifier', 'Participant Name']).sum().reset_index()\n",
    "\n",
    "# Add two new columns\n",
    "username = 'mphightech|hightech1|hightech2|hightech3|hightech4|hightech.announcements|hightech.collaboration|mpchebosi|\\\n",
    "chebosi1|chebosi2|chebosi3|chebosi.announcements|chebosi.collaboration|mpahero|ahero1|ahero2|ahero3|ahero4|\\\n",
    "ahero5|ahero6|ahero.announcements|ahero.collaboration|mukono1|mukono2|mukono.announcements|mukono.collaboration|\\\n",
    "sanlazaro|sanlazaro1|sanlazaro2|sanlazaro3|sanlazaro4|sanlazaro5|sanlazaro6|sanlazaro7|sakubunase2|sakubunase3|\\\n",
    "mpadeiso|adeiso1|adeiso2|adeiso3|adeiso4|adeiso.announcements@villagebookbuilders.org|adeiso.collaboration@villagebookbuilders.org|\\\n",
    "mpkadzakalowa|kadzakalowa1|kadzakalowa2|kadzakalowa3|kadzakalowa4|kadzakalowa5|kadzakalowa6|kadzakalowa7|kadzakalowa8|\\\n",
    "kadzakalowa9|kadzakalowa10|mpcharitycentre|charitycentre1|charitycentre2|charitycentre3|charitycentre4|charitycentre5|\\\n",
    "charitycentre6|charitycentre7|charitycentre8|charitycentreannouncements|charitycentre.collab|mpjollyland|jollyland1|\\\n",
    "jollyland2|jollyland3|jollyland4|jollyland.annoucements|jollyland.collaboration|mpmaragoli|maragoli1|maragoli2|maragoli3|\\\n",
    "maragoli4|maragoli.announcements|maragoli.collaboration|mpyocreek|yocreek1|yocreek2|yocreek3|yocreek4|yocreek5|yocreek6|\\\n",
    "yocreek7|yocreek8|yocreek9|yocreek10|mpvima|vima1|vima2|vima3|vima4|mpbiwi|biwi1|biwi2|biwi3|biwiannouncements@villagebookbuilders.org|\\\n",
    "biwi.collaboration@villagebookbuilders.org'\n",
    "\n",
    "sub = \"villagementors.org\"\n",
    "data['is_mentee']= data[\"Participant Identifier\"].str.contains(username)\n",
    "data['is_mentor']= data[\"Participant Identifier\"].str.contains(sub)\n",
    "#data['is_mentor'] = data['is_mentee'].apply(lambda x: not x)\n",
    "\n",
    "# Attribute the role of each participant\n",
    "def identify_type(is_mentee,is_mentor):\n",
    "    if (is_mentee == True):\n",
    "        return \"Mentee\"\n",
    "    if (is_mentor == True):\n",
    "        return \"Mentor\"\n",
    "    else:\n",
    "        return \"Staff\"\n",
    "\n",
    "data['Identify_type'] = data.apply(lambda x: identify_type(x.is_mentee,x.is_mentor), axis=1)\n",
    "\n",
    "# Convert new dataframe to csv file\n",
    "data.to_csv('meeting_group_march_sept.csv')\n",
    "print(\"File meeting_group_march_sept.csv created !\")"
   ]
  },
  {
   "cell_type": "markdown",
   "metadata": {
    "id": "Kw8cD5vMvS9G"
   },
   "source": [
    "## Second Page : Participants punctuality "
   ]
  },
  {
   "cell_type": "code",
   "execution_count": 18,
   "metadata": {
    "colab": {
     "base_uri": "https://localhost:8080/"
    },
    "executionInfo": {
     "elapsed": 3396,
     "status": "ok",
     "timestamp": 1642645603819,
     "user": {
      "displayName": "Christophe SUN",
      "photoUrl": "https://lh3.googleusercontent.com/a/default-user=s64",
      "userId": "17263732313968826162"
     },
     "user_tz": -60
    },
    "id": "Gn8sLMD5vZ3U",
    "outputId": "c34508ae-3ab6-41aa-8546-b2a9fcb9e9e6"
   },
   "outputs": [
    {
     "name": "stdout",
     "output_type": "stream",
     "text": [
      "group_by_meetingCode.csv saved!\n"
     ]
    }
   ],
   "source": [
    "# Preprocess calendar.csv\n",
    "data_c = data_calendar[['Meet Link', 'Start Time', 'End Time']].copy()\n",
    "data_c['Meeting Code'] = data_c['Meet Link'].str.strip().str[-12:].str.split('-').str.join(\"\").str.upper()\n",
    "data_c['startDateTime'] = data_c['Start Time'].apply(lambda x: eval(x).get('dateTime'))\n",
    "data_c['endDateTime'] = data_c['End Time'].apply(lambda x: eval(x).get('dateTime'))\n",
    "data_c['Date_format'] = data_c['startDateTime'].str.strip().str[:10]\n",
    "data_c = data_c[['Date_format', 'Meeting Code', 'startDateTime', 'endDateTime']]\n",
    "\n",
    "# Preprocess meetlogs.csv\n",
    "data_m = data_meetlogs[['Date', 'Meeting Code', 'Participant Identifier', 'Duration', 'Participant Name']].copy()\n",
    "data_m['Date_format'] = pd.to_datetime(data_m['Date']).dt.strftime('%Y-%m-%d')\n",
    "\n",
    "# Join the two csv files\n",
    "data_merged = pd.merge(data_m, data_c, on=['Date_format','Meeting Code'])\n",
    "\n",
    "#Process data_merged\n",
    "data_merged['startDateTime'] = pd.to_datetime(data_merged['startDateTime'], utc=True)[0]\n",
    "data_merged['endDateTime'] = pd.to_datetime(data_merged['endDateTime'], utc=True)[0]\n",
    "data_merged['UTC'] = pd.to_datetime(data_merged['Date'], utc=True)\n",
    "\n",
    "data_merged['is_mentee']= data_merged[\"Participant Identifier\"].str.contains(username)\n",
    "data_merged['is_mentor']= data_merged[\"Participant Identifier\"].str.contains(sub)\n",
    "#data_merged['is_mentor'] = data_merged['is_mentee'].apply(lambda x: not x)\n",
    "\n",
    "# Attribute the role of each participant\n",
    "def identify_type(is_mentee,is_mentor):\n",
    "    if (is_mentee == True):\n",
    "        return \"Mentee\"\n",
    "    if (is_mentor == True):\n",
    "        return \"Mentor\"\n",
    "    else:\n",
    "        return \"Staff\"\n",
    "\n",
    "data_merged['Identify_type'] = data_merged.apply(lambda x: identify_type(x.is_mentee,x.is_mentor), axis=1)\n",
    "\n",
    "def get_real_end(meeting_code, date_format, participant_identifier, participant_name):\n",
    "    return data_merged[(data_merged['Meeting Code'] == meeting_code) &\n",
    "                (data_merged['Date_format'] == date_format) &\n",
    "                (data_merged['Participant Identifier'] == participant_identifier) &\n",
    "                (data_merged['Participant Name'] == participant_name)]['UTC'].max()\n",
    "\n",
    "#Group df to sum duration\n",
    "df = data_merged.groupby(['Date_format', 'Meeting Code', 'Participant Identifier',\n",
    "       'Participant Name', 'startDateTime', 'endDateTime',\n",
    "       'Identify_type']).sum().reset_index()\n",
    "\n",
    "#Uniformize dates\n",
    "df['UTC'] = df.apply(lambda x: get_real_end(x['Meeting Code'], x['Date_format'], x['Participant Identifier'], x['Participant Name']), axis = 1)\n",
    "\n",
    "#Middle point dates to calculate difference beetwen calendar and meetlog\n",
    "df['durationUTC'] = df.UTC - df.Duration * timedelta(seconds=1)\n",
    "df['meetStartUTC'] = df['UTC'].dt.floor('H') #Based on UTC Column\n",
    "df['meetEndUTC'] = df['UTC'].dt.ceil('H')\n",
    "df['startDateTime'] = pd.to_datetime(df['startDateTime'], utc=True)\n",
    "df['endDateTime'] = pd.to_datetime(df['endDateTime'], utc=True)\n",
    "df['meetStartDuration'] = (df['durationUTC']-timedelta(minutes = 15)).dt.round('H')\n",
    "df['meetEndDuration'] = df.durationUTC + (df.endDateTime - df.startDateTime)\n",
    "df['deltaStart'] = df['startDateTime'] - df['meetStartDuration']\n",
    "df['deltaEnd'] = df['endDateTime'] - df['meetEndDuration']\n",
    "\n",
    "#Clean dates\n",
    "df['cleanStartCalendar'] = df.startDateTime - df.deltaStart\n",
    "df['cleanEndCalendar'] = df.endDateTime - df.deltaStart\n",
    "df['meetingEnd'] = df.UTC\n",
    "df['meetingStart'] = df.durationUTC\n",
    "df['meetingDate'] = df['cleanStartCalendar'].dt.date\n",
    "\n",
    "#Only clean information\n",
    "clean_df = df[['Meeting Code','Identify_type','meetingDate','meetingStart','meetingEnd','cleanStartCalendar','cleanEndCalendar', 'Duration']].copy()\n",
    "\n",
    "#Calculate punctuality\n",
    "clean_df['punctuality'] = (clean_df['meetingStart'] - clean_df['cleanStartCalendar']).dt.total_seconds()\n",
    "\n",
    "#Save\n",
    "clean_df.to_csv('group_by_meetingCode.csv')\n",
    "print('File group_by_meetingCode.csv saved!')"
   ]
  },
  {
   "cell_type": "markdown",
   "metadata": {
    "id": "_JMczoQjvbx1"
   },
   "source": [
    "## Third Page : Mentors geolocation "
   ]
  },
  {
   "cell_type": "code",
   "execution_count": 9,
   "metadata": {
    "colab": {
     "base_uri": "https://localhost:8080/"
    },
    "executionInfo": {
     "elapsed": 152,
     "status": "ok",
     "timestamp": 1642638612366,
     "user": {
      "displayName": "Christophe SUN",
      "photoUrl": "https://lh3.googleusercontent.com/a/default-user=s64",
      "userId": "17263732313968826162"
     },
     "user_tz": -60
    },
    "id": "pIuhrgL9vmH7",
    "outputId": "bb909d5a-2c03-4291-9b3f-1350d2bfb6b6"
   },
   "outputs": [
    {
     "name": "stdout",
     "output_type": "stream",
     "text": [
      "File mentors.csv created !\n"
     ]
    }
   ],
   "source": [
    "# Select the columns of interest \n",
    "data = data_meetlogs[['Participant Identifier', 'Participant Name', 'Organizer Email', 'City', 'Country']]\n",
    "\n",
    "# Select only rows where the Organizer Email is 'mentor@villagebookbuilders.org' (the remainings are supposed not to be related to the mentoring program) and drop the column\n",
    "data_mp = data.loc[data['Organizer Email'] == 'mentor@villagebookbuilders.org']\n",
    "data_mp = data_mp.drop(columns=['Organizer Email'])\n",
    "\n",
    "# Find all the mentees (whose either Identifier starts with 'mp' or Name with 'Computer') et discard them from the dataframe\n",
    "data_mentors = data_mp.loc[~(data['Participant Identifier'].str.startswith('mp', na=False) | data['Participant Name'].str.startswith('Computer', na=False))]\n",
    "\n",
    "# Drop all duplicates from the Participant Identifier\n",
    "data_mentors = data_mentors.drop_duplicates(subset=['Participant Identifier'])\n",
    "\n",
    "# Convert filtered dataframe to csv file\n",
    "data_mentors.to_csv('mentors.csv', index=False)\n",
    "print(\"File mentors.csv created !\")"
   ]
  }
 ],
 "metadata": {
  "colab": {
   "authorship_tag": "ABX9TyOSuHZgiVt3NekKB6vRaYir",
   "mount_file_id": "1mZSSwJawGdVAVZTq2nN-0lPhqnHJpk2e",
   "name": "GenerateCSV.ipynb",
   "provenance": []
  },
  "kernelspec": {
   "display_name": "Python 3",
   "language": "python",
   "name": "python3"
  },
  "language_info": {
   "codemirror_mode": {
    "name": "ipython",
    "version": 3
   },
   "file_extension": ".py",
   "mimetype": "text/x-python",
   "name": "python",
   "nbconvert_exporter": "python",
   "pygments_lexer": "ipython3",
   "version": "3.7.6"
  }
 },
 "nbformat": 4,
 "nbformat_minor": 4
}
